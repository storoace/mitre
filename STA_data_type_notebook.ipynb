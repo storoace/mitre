{
 "cells": [
  {
   "cell_type": "markdown",
   "metadata": {},
   "source": [
    "### Running the set up functions"
   ]
  },
  {
   "cell_type": "code",
   "execution_count": 1,
   "metadata": {},
   "outputs": [],
   "source": [
    "%run functions\\\\notebook_functions.py\n",
    "%run functions\\\\storo_functions.py\n",
    "\n",
    "data_type = \"data_component\" # Change this value to select between \"data_source\" of \"data_component\"\n",
    "data_type_value = 'Driver Load' # Change this value to select the specific \"Data Source\" or \"Data Component\""
   ]
  },
  {
   "cell_type": "markdown",
   "metadata": {},
   "source": [
    "### Getting the Attack Data Frame"
   ]
  },
  {
   "cell_type": "code",
   "execution_count": 2,
   "metadata": {},
   "outputs": [
    {
     "name": "stderr",
     "output_type": "stream",
     "text": [
      "[taxii2client.v20] [WARNING ] [2022-03-18 00:07:08,655] TAXII Server Response did not include 'Content-Range' header - results could be incomplete.\n",
      "[taxii2client.v20] [WARNING ] [2022-03-18 00:07:08,732] TAXII Server Response with different amount of objects! Setting per_request=707\n"
     ]
    }
   ],
   "source": [
    "attack = get_attack_dataframe()\n",
    "attack.to_csv('attack_dataframe.csv') \n"
   ]
  },
  {
   "cell_type": "markdown",
   "metadata": {},
   "source": [
    "### Getting the list of Data Types (Data Sources or Data Components) - (to CSV)"
   ]
  },
  {
   "cell_type": "code",
   "execution_count": 3,
   "metadata": {},
   "outputs": [],
   "source": [
    "data_type_list = get_dt_list(attack, data_type)\n",
    "filename = \"{}s.csv\".format(data_type)\n",
    "data_type_list.to_csv(filename)\n"
   ]
  },
  {
   "cell_type": "markdown",
   "metadata": {},
   "source": [
    "### Techniques by Data Type - Specific Value (to CSV)"
   ]
  },
  {
   "cell_type": "code",
   "execution_count": 4,
   "metadata": {},
   "outputs": [],
   "source": [
    "t_by_dt = get_t_by_dt(attack, data_type, data_type_value)\n",
    "filename = \"techniques_by_{}-{}.csv\".format(data_type, data_type_value)\n",
    "t_by_dt.to_csv(filename)"
   ]
  },
  {
   "cell_type": "markdown",
   "metadata": {},
   "source": [
    "### Creating a Customized Navigator Layer (for a Specific Data Type Value)"
   ]
  },
  {
   "cell_type": "code",
   "execution_count": 5,
   "metadata": {},
   "outputs": [],
   "source": [
    "\n",
    "single_layer = get_layer_for_dtv(attack, data_type, data_type_value)\n",
    "filename = \"layer_for_{}-{}.json\".format(data_type, data_type_value)\n",
    "single_layer.to_file(filename)"
   ]
  },
  {
   "cell_type": "markdown",
   "metadata": {},
   "source": [
    "### Creating a Combined Navigator Layer by Data Type (Data Source or Data Component)"
   ]
  },
  {
   "cell_type": "code",
   "execution_count": 6,
   "metadata": {},
   "outputs": [
    {
     "name": "stdout",
     "output_type": "stream",
     "text": [
      "Warning! Layer mis-match detected for name. Defaulting to 0's value\n",
      "Warning! Layer mis-match detected for versions. Defaulting to 0's value\n",
      "Warning! Layer mis-match detected for gradient. Defaulting to 0's value\n"
     ]
    }
   ],
   "source": [
    "dt_list = []\n",
    "for ind in data_type_list.index:\n",
    "    dt_list.append(data_type_list['index'][ind])\n",
    "\n",
    "final_layer = get_layer_by_dt(attack, dt_list, data_type)\n",
    "final_layer.to_file(\"combined_layer.json\")"
   ]
  }
 ],
 "metadata": {
  "interpreter": {
   "hash": "63ad37a66128b932e70c59c1fbb113a72f03d3ef6f9c088b15d5d15419de60da"
  },
  "kernelspec": {
   "display_name": "Python 3.9.6 64-bit",
   "name": "python3"
  },
  "language_info": {
   "codemirror_mode": {
    "name": "ipython",
    "version": 3
   },
   "file_extension": ".py",
   "mimetype": "text/x-python",
   "name": "python",
   "nbconvert_exporter": "python",
   "pygments_lexer": "ipython3",
   "version": "3.9.6"
  },
  "metadata": {
   "interpreter": {
    "hash": "01ff218a1150c63991e192507b67669b395017327636807f98fdac9b0b091f04"
   }
  }
 },
 "nbformat": 4,
 "nbformat_minor": 4
}
